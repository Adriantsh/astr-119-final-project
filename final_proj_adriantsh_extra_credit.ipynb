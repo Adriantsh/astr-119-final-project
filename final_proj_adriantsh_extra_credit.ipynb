{
 "cells": [
  {
   "cell_type": "markdown",
   "metadata": {},
   "source": [
    "## Import Modules"
   ]
  },
  {
   "cell_type": "code",
   "execution_count": null,
   "metadata": {},
   "outputs": [],
   "source": [
    "%matplotlib inline\n",
    "import matplotlib.pyplot as plt\n",
    "import matplotlib.colors as colors\n",
    "import numpy as np\n",
    "from astropy.io import fits\n",
    "import colorsys"
   ]
  },
  {
   "cell_type": "markdown",
   "metadata": {},
   "source": [
    "## Save .fits files as Numpy arrays"
   ]
  },
  {
   "cell_type": "code",
   "execution_count": null,
   "metadata": {},
   "outputs": [],
   "source": [
    "#import 1st image\n",
    "fname1 = \"f105w.fits\"\n",
    "\n",
    "#open using astropy.io\n",
    "f105 = fits.open(fname1)\n",
    "#save as 2d numpy array\n",
    "d1_data = f105[0].data\n",
    "\n",
    "#close using astropy.io\n",
    "f105.close()\n",
    "\n",
    "#import 2nd image\n",
    "fname2 = \"f125w.fits\"\n",
    "\n",
    "#open using astropy.io\n",
    "f125 = fits.open(fname2)\n",
    "#save as 2d numpy array\n",
    "d2_data = f125[0].data\n",
    "\n",
    "#close using astropy.io\n",
    "f125.close()\n",
    "\n",
    "#import 3rd image\n",
    "fname3 = \"f160w.fits\"\n",
    "\n",
    "#open using astropy.io\n",
    "f160 = fits.open(fname3)\n",
    "#save as 2d numpy array\n",
    "d3_data = f160[0].data\n",
    "\n",
    "#close using astropy.io\n",
    "f160.close()"
   ]
  },
  {
   "cell_type": "markdown",
   "metadata": {},
   "source": [
    "## Define a funct to adjust images"
   ]
  },
  {
   "cell_type": "code",
   "execution_count": null,
   "metadata": {
    "scrolled": true
   },
   "outputs": [],
   "source": [
    "def adjust(image,cut_fac,log_fac):\n",
    "    \n",
    "    #we want to ignore the large ammount of gray \n",
    "    #around the sides of the image\n",
    "    \n",
    "    #to get more accurate values for the mean and stdev\n",
    "    #we crop the image\n",
    "    crop = image[1500:2000,1500:2000]\n",
    "    mean = np.mean(crop)\n",
    "    stdev = np.std(crop)\n",
    "    \n",
    "    #values that are many stdevs away from the mean will cause\n",
    "    #the vast majority of pixels to look the same\n",
    "    \n",
    "    #we set values above this limit to \n",
    "    #instead be equal to the limit itself\n",
    "    up_limit  = mean + cut_fac*stdev\n",
    "\n",
    "    for i in range(3600):\n",
    "        for j in range(3600):\n",
    "            if image[i,j] > up_limit:\n",
    "                image[i,j] = up_limit\n",
    "                \n",
    "    #in order to take the log of the image,\n",
    "    #we must make sure all negative and zero values\n",
    "    #become positive\n",
    "    \n",
    "    #subtracting minimum to all image values\n",
    "    #makes min equal zero\n",
    "    \n",
    "    #add small extra value so all values are pos\n",
    "    \n",
    "    min_image = np.min(image)\n",
    "    adj = image - min_image + log_fac\n",
    "                \n",
    "    im_log = np.log(adj)\n",
    "    \n",
    "    #adjust array so that the new minimum is 0 and max is 1\n",
    "    log_min = np.min(im_log)\n",
    "    im_pos = im_log - log_min\n",
    "    \n",
    "    pos_max = np.max(im_pos)\n",
    "    im_final = im_pos / pos_max\n",
    "                \n",
    "    return im_final"
   ]
  },
  {
   "cell_type": "markdown",
   "metadata": {},
   "source": [
    "## Adjust and plot 1st Figure"
   ]
  },
  {
   "cell_type": "code",
   "execution_count": null,
   "metadata": {},
   "outputs": [],
   "source": [
    "#use values cut_fac = 10 and log_fac = 0.05 \n",
    "d1_adjust = adjust(d1_data,10,0.05)\n",
    "\n",
    "f = plt.figure(figsize=(10,10))\n",
    "plt.imshow(d1_adjust, cmap='gray')\n",
    "plt.colorbar()"
   ]
  },
  {
   "cell_type": "markdown",
   "metadata": {},
   "source": [
    "## Adjust and plot 2nd figure"
   ]
  },
  {
   "cell_type": "code",
   "execution_count": null,
   "metadata": {},
   "outputs": [],
   "source": [
    "#use values cut_fac = 10 and log_fac = 0.05 \n",
    "d2_adjust = adjust(d2_data,10,0.05)\n",
    "\n",
    "f = plt.figure(figsize=(10,10))\n",
    "plt.imshow(d2_adjust, cmap='gray')\n",
    "plt.colorbar()"
   ]
  },
  {
   "cell_type": "markdown",
   "metadata": {},
   "source": [
    "## Adjust and plot 3rd figure"
   ]
  },
  {
   "cell_type": "code",
   "execution_count": null,
   "metadata": {},
   "outputs": [],
   "source": [
    "#use values cut_fac = 10 and log_fac = 0.05 \n",
    "d3_adjust = adjust(d3_data,10,0.05)\n",
    "\n",
    "f = plt.figure(figsize=(10,10))\n",
    "plt.imshow(d3_adjust, cmap='gray')\n",
    "plt.colorbar()"
   ]
  },
  {
   "cell_type": "markdown",
   "metadata": {},
   "source": [
    "## Combine Images into one RGB image and plot"
   ]
  },
  {
   "cell_type": "code",
   "execution_count": null,
   "metadata": {},
   "outputs": [],
   "source": [
    "#create blank canvas with 3 clannels for every pixel\n",
    "RGB = np.zeros((3600,3600,3))\n",
    "HSV = np.zeros((3600,3600,3))\n",
    "\n",
    "#1st channel = red, set to 1st image\n",
    "RGB[:,:,0] = d1_adjust[:,:]\n",
    "\n",
    "#2nd channel = green, set to 2nd image\n",
    "RGB[:,:,1] = d2_adjust[:,:]\n",
    "\n",
    "#3rd channel = blue, set to 3rd image\n",
    "RGB[:,:,2] = d3_adjust[:,:]\n",
    "\n",
    "#plot figure\n",
    "f = plt.figure(figsize=(10,10))\n",
    "plt.imshow(RGB)\n",
    "f.savefig('rgb_hudf.png')"
   ]
  }
 ],
 "metadata": {
  "kernelspec": {
   "display_name": "Python 3",
   "language": "python",
   "name": "python3"
  },
  "language_info": {
   "codemirror_mode": {
    "name": "ipython",
    "version": 3
   },
   "file_extension": ".py",
   "mimetype": "text/x-python",
   "name": "python",
   "nbconvert_exporter": "python",
   "pygments_lexer": "ipython3",
   "version": "3.8.5"
  }
 },
 "nbformat": 4,
 "nbformat_minor": 4
}
